{
 "cells": [
  {
   "cell_type": "markdown",
   "metadata": {},
   "source": [
    "# How to avoid a Pandas pandemonium\n",
    "## A deep dive into Pandas best practices using self-contained examples\n",
    "\n",
    "When you first start out using Pandas, it's often best to just get your feet wet and deal with problems as they come up. Then, the years pass, the amazing things you've been able to build with it start to accumulate, but you have a vague inkling that you keep making the same kinds of mistakes and that your code is running really slowly for what seems like pretty simple operations. This is when it's time to dig into the inner workings of Pandas and take your code to the next level. Like with any library, the best way to optimize your code is to understand what's going on underneath the syntax.\n",
    "\n",
    "## Topics\n",
    "* Writing good code\n",
    "* Common silent failures\n",
    "* Speeding up your runtime\n",
    "* Lowering your memory footprint"
   ]
  },
  {
   "cell_type": "code",
   "execution_count": 1,
   "metadata": {},
   "outputs": [],
   "source": [
    "# for neatness, it helps to keep all of your imports up top\n",
    "import sys\n",
    "import traceback\n",
    "import numba\n",
    "import numpy as np\n",
    "import pandas as pd\n",
    "import numpy.random as nr\n",
    "import matplotlib.pyplot as plt\n",
    "\n",
    "% matplotlib inline"
   ]
  },
  {
   "cell_type": "code",
   "execution_count": 2,
   "metadata": {},
   "outputs": [],
   "source": [
    "# generate some fake data to play with\n",
    "data = {\n",
    "    \"day_of_week\": [\"Monday\", \"Tuesday\", \"Wednesday\", \"Thursday\", \"Friday\", \"Saturday\", \"Sunday\"] * 1000,\n",
    "    \"booleans\": [True, False] * 3500,\n",
    "    \"positive_ints\": nr.randint(0, 100, size=7000),\n",
    "    \"mixed_ints\": nr.randint(-100, 100, size=7000),\n",
    "    \"lat1\": nr.randn(7000) * 30,\n",
    "    \"lon1\": nr.randn(7000) * 30,\n",
    "    \"lat2\": nr.randn(7000) * 30,\n",
    "    \"lon2\": nr.randn(7000) * 30,\n",
    "}\n",
    "\n",
    "df_large = pd.DataFrame(data)"
   ]
  },
  {
   "cell_type": "code",
   "execution_count": 3,
   "metadata": {},
   "outputs": [
    {
     "data": {
      "text/html": [
       "<div>\n",
       "<style scoped>\n",
       "    .dataframe tbody tr th:only-of-type {\n",
       "        vertical-align: middle;\n",
       "    }\n",
       "\n",
       "    .dataframe tbody tr th {\n",
       "        vertical-align: top;\n",
       "    }\n",
       "\n",
       "    .dataframe thead th {\n",
       "        text-align: right;\n",
       "    }\n",
       "</style>\n",
       "<table border=\"1\" class=\"dataframe\">\n",
       "  <thead>\n",
       "    <tr style=\"text-align: right;\">\n",
       "      <th></th>\n",
       "      <th>day_of_week</th>\n",
       "      <th>booleans</th>\n",
       "      <th>positive_ints</th>\n",
       "      <th>mixed_ints</th>\n",
       "      <th>lat1</th>\n",
       "      <th>lon1</th>\n",
       "      <th>lat2</th>\n",
       "      <th>lon2</th>\n",
       "    </tr>\n",
       "  </thead>\n",
       "  <tbody>\n",
       "    <tr>\n",
       "      <th>0</th>\n",
       "      <td>Monday</td>\n",
       "      <td>True</td>\n",
       "      <td>42</td>\n",
       "      <td>79</td>\n",
       "      <td>5.745216</td>\n",
       "      <td>-43.094330</td>\n",
       "      <td>15.617175</td>\n",
       "      <td>-24.790654</td>\n",
       "    </tr>\n",
       "    <tr>\n",
       "      <th>1</th>\n",
       "      <td>Tuesday</td>\n",
       "      <td>False</td>\n",
       "      <td>52</td>\n",
       "      <td>-30</td>\n",
       "      <td>-18.486213</td>\n",
       "      <td>19.586532</td>\n",
       "      <td>17.345942</td>\n",
       "      <td>56.579815</td>\n",
       "    </tr>\n",
       "    <tr>\n",
       "      <th>2</th>\n",
       "      <td>Wednesday</td>\n",
       "      <td>True</td>\n",
       "      <td>44</td>\n",
       "      <td>-69</td>\n",
       "      <td>3.417936</td>\n",
       "      <td>-33.305177</td>\n",
       "      <td>20.157805</td>\n",
       "      <td>-25.048502</td>\n",
       "    </tr>\n",
       "    <tr>\n",
       "      <th>3</th>\n",
       "      <td>Thursday</td>\n",
       "      <td>False</td>\n",
       "      <td>64</td>\n",
       "      <td>-9</td>\n",
       "      <td>-31.167047</td>\n",
       "      <td>-37.542818</td>\n",
       "      <td>-11.478706</td>\n",
       "      <td>-55.032297</td>\n",
       "    </tr>\n",
       "    <tr>\n",
       "      <th>4</th>\n",
       "      <td>Friday</td>\n",
       "      <td>True</td>\n",
       "      <td>6</td>\n",
       "      <td>-31</td>\n",
       "      <td>21.443933</td>\n",
       "      <td>-33.310642</td>\n",
       "      <td>-63.551866</td>\n",
       "      <td>33.354095</td>\n",
       "    </tr>\n",
       "  </tbody>\n",
       "</table>\n",
       "</div>"
      ],
      "text/plain": [
       "  day_of_week  booleans  positive_ints  mixed_ints       lat1       lon1  \\\n",
       "0      Monday      True             42          79   5.745216 -43.094330   \n",
       "1     Tuesday     False             52         -30 -18.486213  19.586532   \n",
       "2   Wednesday      True             44         -69   3.417936 -33.305177   \n",
       "3    Thursday     False             64          -9 -31.167047 -37.542818   \n",
       "4      Friday      True              6         -31  21.443933 -33.310642   \n",
       "\n",
       "        lat2       lon2  \n",
       "0  15.617175 -24.790654  \n",
       "1  17.345942  56.579815  \n",
       "2  20.157805 -25.048502  \n",
       "3 -11.478706 -55.032297  \n",
       "4 -63.551866  33.354095  "
      ]
     },
     "execution_count": 3,
     "metadata": {},
     "output_type": "execute_result"
    }
   ],
   "source": [
    "df_large.head()"
   ]
  },
  {
   "cell_type": "code",
   "execution_count": 4,
   "metadata": {},
   "outputs": [
    {
     "data": {
      "text/html": [
       "<div>\n",
       "<style scoped>\n",
       "    .dataframe tbody tr th:only-of-type {\n",
       "        vertical-align: middle;\n",
       "    }\n",
       "\n",
       "    .dataframe tbody tr th {\n",
       "        vertical-align: top;\n",
       "    }\n",
       "\n",
       "    .dataframe thead th {\n",
       "        text-align: right;\n",
       "    }\n",
       "</style>\n",
       "<table border=\"1\" class=\"dataframe\">\n",
       "  <thead>\n",
       "    <tr style=\"text-align: right;\">\n",
       "      <th></th>\n",
       "      <th>a</th>\n",
       "      <th>b</th>\n",
       "    </tr>\n",
       "  </thead>\n",
       "  <tbody>\n",
       "    <tr>\n",
       "      <th>0</th>\n",
       "      <td>1</td>\n",
       "      <td>2</td>\n",
       "    </tr>\n",
       "    <tr>\n",
       "      <th>1</th>\n",
       "      <td>1</td>\n",
       "      <td>2</td>\n",
       "    </tr>\n",
       "  </tbody>\n",
       "</table>\n",
       "</div>"
      ],
      "text/plain": [
       "   a  b\n",
       "0  1  2\n",
       "1  1  2"
      ]
     },
     "execution_count": 4,
     "metadata": {},
     "output_type": "execute_result"
    }
   ],
   "source": [
    "small = {\n",
    "    'a': [1, 1],\n",
    "    'b': [2, 2]\n",
    "}\n",
    "\n",
    "df_small = pd.DataFrame(small)\n",
    "\n",
    "df_small"
   ]
  },
  {
   "cell_type": "markdown",
   "metadata": {},
   "source": [
    "## Writing good code\n",
    "Before we do the \"cool\" stuff like writing faster and more memory-optimized code, we need to do it on a foundation of some fairly mundane-seeming coding best practices. These are the little things, such as naming things expressively and writing sanity checks, that will help keep your code maintainable and readable by your peers. "
   ]
  },
  {
   "cell_type": "markdown",
   "metadata": {},
   "source": [
    "### Sanity checking is simple and totally worth it\n",
    "\n",
    "Just because this is mostly just data analysis, and it might not make sense to put up a whole suite of unit tests for it, doesn't mean you can't do any kind of checks at all. Peppering your notebook code with `assert` can go a long way without much extra work. \n",
    "\n",
    "Above, we made a DataFrame `df_large` that contains numbers with some pre-defined rules. For example, you can check for data entry errors by trimming whitespace and checking that the number of entries stays the same:"
   ]
  },
  {
   "cell_type": "code",
   "execution_count": 5,
   "metadata": {},
   "outputs": [],
   "source": [
    "large_copy = df_large.copy()"
   ]
  },
  {
   "cell_type": "code",
   "execution_count": 6,
   "metadata": {},
   "outputs": [],
   "source": [
    "assert large_copy[\"day_of_week\"].str.strip().unique().size == large_copy[\"day_of_week\"].unique().size"
   ]
  },
  {
   "cell_type": "code",
   "execution_count": 7,
   "metadata": {},
   "outputs": [
    {
     "ename": "AssertionError",
     "evalue": "",
     "output_type": "error",
     "traceback": [
      "\u001b[0;31m---------------------------------------------------------------------------\u001b[0m",
      "\u001b[0;31mAssertionError\u001b[0m                            Traceback (most recent call last)",
      "\u001b[0;32m<ipython-input-7-bb8c0d4a8066>\u001b[0m in \u001b[0;36m<module>\u001b[0;34m()\u001b[0m\n\u001b[1;32m      1\u001b[0m \u001b[0mlarge_copy\u001b[0m\u001b[0;34m.\u001b[0m\u001b[0mloc\u001b[0m\u001b[0;34m[\u001b[0m\u001b[0;36m0\u001b[0m\u001b[0;34m,\u001b[0m \u001b[0;34m\"day_of_week\"\u001b[0m\u001b[0;34m]\u001b[0m \u001b[0;34m=\u001b[0m \u001b[0;34m\"Monday \"\u001b[0m\u001b[0;34m\u001b[0m\u001b[0m\n\u001b[1;32m      2\u001b[0m \u001b[0;34m\u001b[0m\u001b[0m\n\u001b[0;32m----> 3\u001b[0;31m \u001b[0;32massert\u001b[0m \u001b[0mlarge_copy\u001b[0m\u001b[0;34m[\u001b[0m\u001b[0;34m\"day_of_week\"\u001b[0m\u001b[0;34m]\u001b[0m\u001b[0;34m.\u001b[0m\u001b[0mstr\u001b[0m\u001b[0;34m.\u001b[0m\u001b[0mstrip\u001b[0m\u001b[0;34m(\u001b[0m\u001b[0;34m)\u001b[0m\u001b[0;34m.\u001b[0m\u001b[0munique\u001b[0m\u001b[0;34m(\u001b[0m\u001b[0;34m)\u001b[0m\u001b[0;34m.\u001b[0m\u001b[0msize\u001b[0m \u001b[0;34m==\u001b[0m \u001b[0mlarge_copy\u001b[0m\u001b[0;34m[\u001b[0m\u001b[0;34m\"day_of_week\"\u001b[0m\u001b[0;34m]\u001b[0m\u001b[0;34m.\u001b[0m\u001b[0munique\u001b[0m\u001b[0;34m(\u001b[0m\u001b[0;34m)\u001b[0m\u001b[0;34m.\u001b[0m\u001b[0msize\u001b[0m\u001b[0;34m\u001b[0m\u001b[0m\n\u001b[0m",
      "\u001b[0;31mAssertionError\u001b[0m: "
     ]
    }
   ],
   "source": [
    "large_copy.loc[0, \"day_of_week\"] = \"Monday \"\n",
    "\n",
    "assert large_copy[\"day_of_week\"].str.strip().unique().size == large_copy[\"day_of_week\"].unique().size"
   ]
  },
  {
   "cell_type": "markdown",
   "metadata": {},
   "source": [
    "### Use consistent indexing\n",
    "\n",
    "Pandas grants you a lot of flexibility in indexing, but it can add up to a lot of confusion later if you're not disciplined about keeping a consistent style. This is one proposed standard (followed by some examples of indexing that technically produce the same effect):"
   ]
  },
  {
   "cell_type": "code",
   "execution_count": 8,
   "metadata": {},
   "outputs": [],
   "source": [
    "# for getting columns, use a string or a list of strings for multiple columns\n",
    "# note: a one-column DataFrame and a Series are not the same thing\n",
    "one_column_series = df_large[\"mixed_ints\"]\n",
    "two_column_df = df_large[[\"mixed_ints\", \"positive_ints\"]]\n",
    "\n",
    "# for getting a 2D slice of data, use `loc`\n",
    "data_view_series = df_large.loc[:10, \"positive_ints\"]\n",
    "data_view_df = df_large.loc[:10, [\"mixed_ints\", \"positive_ints\"]]\n",
    "\n",
    "# for getting a subset of rows, also use `loc`\n",
    "row_subset_df = df_large.loc[:10, :]"
   ]
  },
  {
   "cell_type": "code",
   "execution_count": 9,
   "metadata": {},
   "outputs": [],
   "source": [
    "# here's some alternatives for the above\n",
    "# one way is to use `df.loc` for everything, but it can look clunky\n",
    "one_column_series = df_large.loc[:, \"mixed_ints\"]\n",
    "two_column_df = df_large.loc[:, [\"mixed_ints\", \"positive_ints\"]]\n",
    "\n",
    "# you can use `iloc`, which is `loc` but with indexes, but it's not as clear\n",
    "# also, you're in trouble if you ever change the column order\n",
    "data_view_series = df_large.iloc[:10, 2]\n",
    "data_view_df = df_large.iloc[:10, [3, 2]]\n",
    "\n",
    "# you can get rows like you slice a list, but this can be confusing\n",
    "row_subset_df = df_large[:10]\n",
    "\n",
    "# why confusing? because df_large[10] actually gives you column 10, not row 10"
   ]
  },
  {
   "cell_type": "markdown",
   "metadata": {},
   "source": [
    "### But don't use chained indexing\n",
    "What is chained indexing? It's when you separately index the columns and the rows, which will make two separate calls to `__getitem__()` (or worse, one call to `__getitem__()` and one to `__setitem__()` if you're making assignments, which we demonstrate below). It's not so bad if you're just indexing and not making assignments, but it's still not ideal from a readability standpoint because if you index the rows in one place and then index a column, unless you're very disciplined about variable naming, it's easy to lose track of what exactly you indexed."
   ]
  },
  {
   "cell_type": "code",
   "execution_count": 10,
   "metadata": {},
   "outputs": [],
   "source": [
    "data_view_series = df_large[:10][\"mixed_ints\"]\n",
    "data_view_df = df_large[:10][[\"mixed_ints\", \"positive_ints\"]]\n",
    "\n",
    "# this is also chained indexing, but low-key\n",
    "row_subset_df = df_large[:10]\n",
    "data_view_df = row_subset_df[[\"mixed_ints\", \"positive_ints\"]]"
   ]
  },
  {
   "cell_type": "markdown",
   "metadata": {},
   "source": [
    "## Common silent failures\n",
    "Even if you do all of the above, sometimes Pandas' flexibility can lull you into making mistakes that don't actually make you error out. These are particularly pernicious because you often don't realize something is wrong until something far downstream doesn't make sense, and it's very hard to trace back to what the cause was.\n",
    "\n",
    "### View vs. Copy\n",
    "A view and a copy of a DataFrame can look identical to you in terms of the values it contains, but a view references a piece of an existing DataFrame and a copy is a whole different DataFrame. If you change a view, you change the existing DataFrame, but if you change a copy, the original DataFrame is unaffected. Make sure you aren't modifying a view when you think you're modifying a copy and vice versa.\n",
    "\n",
    "It turns out that whether you're dealing with a copy or a view is very difficult to predict! Internally, Pandas tries to optimize by returning a view or a copy depending on the DataFrame and the actions you take. You can force Pandas to make a copy for you by using `df.copy()` and you can force Pandas to operate in place on a DataFrame by setting `inplace=true` when it's available.\n",
    "\n",
    "When to make a copy and when to use a view? It's hard to say for sure, but if your data is small or your resources are large and you want to go functional and stateless, you can try making a copy for every operation, like Spark would, since it's probably the safest way to do things. On the other hand, if you have lots of data and a regular laptop, you might want to operate in place to prevent your notebooks from crashing."
   ]
  },
  {
   "cell_type": "code",
   "execution_count": 11,
   "metadata": {},
   "outputs": [
    {
     "data": {
      "text/html": [
       "<div>\n",
       "<style scoped>\n",
       "    .dataframe tbody tr th:only-of-type {\n",
       "        vertical-align: middle;\n",
       "    }\n",
       "\n",
       "    .dataframe tbody tr th {\n",
       "        vertical-align: top;\n",
       "    }\n",
       "\n",
       "    .dataframe thead th {\n",
       "        text-align: right;\n",
       "    }\n",
       "</style>\n",
       "<table border=\"1\" class=\"dataframe\">\n",
       "  <thead>\n",
       "    <tr style=\"text-align: right;\">\n",
       "      <th></th>\n",
       "      <th>a</th>\n",
       "      <th>b</th>\n",
       "    </tr>\n",
       "  </thead>\n",
       "  <tbody>\n",
       "    <tr>\n",
       "      <th>0</th>\n",
       "      <td>1</td>\n",
       "      <td>2</td>\n",
       "    </tr>\n",
       "    <tr>\n",
       "      <th>1</th>\n",
       "      <td>1</td>\n",
       "      <td>2</td>\n",
       "    </tr>\n",
       "  </tbody>\n",
       "</table>\n",
       "</div>"
      ],
      "text/plain": [
       "   a  b\n",
       "0  1  2\n",
       "1  1  2"
      ]
     },
     "execution_count": 11,
     "metadata": {},
     "output_type": "execute_result"
    }
   ],
   "source": [
    "# intentionally making a copy will always make a copy\n",
    "small_copy = df_small.copy()\n",
    "\n",
    "small_copy"
   ]
  },
  {
   "cell_type": "code",
   "execution_count": 12,
   "metadata": {},
   "outputs": [
    {
     "data": {
      "text/html": [
       "<div>\n",
       "<style scoped>\n",
       "    .dataframe tbody tr th:only-of-type {\n",
       "        vertical-align: middle;\n",
       "    }\n",
       "\n",
       "    .dataframe tbody tr th {\n",
       "        vertical-align: top;\n",
       "    }\n",
       "\n",
       "    .dataframe thead th {\n",
       "        text-align: right;\n",
       "    }\n",
       "</style>\n",
       "<table border=\"1\" class=\"dataframe\">\n",
       "  <thead>\n",
       "    <tr style=\"text-align: right;\">\n",
       "      <th></th>\n",
       "      <th>a</th>\n",
       "    </tr>\n",
       "  </thead>\n",
       "  <tbody>\n",
       "    <tr>\n",
       "      <th>0</th>\n",
       "      <td>1</td>\n",
       "    </tr>\n",
       "    <tr>\n",
       "      <th>1</th>\n",
       "      <td>1</td>\n",
       "    </tr>\n",
       "  </tbody>\n",
       "</table>\n",
       "</div>"
      ],
      "text/plain": [
       "   a\n",
       "0  1\n",
       "1  1"
      ]
     },
     "execution_count": 12,
     "metadata": {},
     "output_type": "execute_result"
    }
   ],
   "source": [
    "# seeing `inplace=true` in the API reference means you have a choice to make a copy or not\n",
    "small_drop = small_copy.drop(\"b\", axis=1)\n",
    "\n",
    "small_drop"
   ]
  },
  {
   "cell_type": "code",
   "execution_count": 13,
   "metadata": {},
   "outputs": [
    {
     "data": {
      "text/html": [
       "<div>\n",
       "<style scoped>\n",
       "    .dataframe tbody tr th:only-of-type {\n",
       "        vertical-align: middle;\n",
       "    }\n",
       "\n",
       "    .dataframe tbody tr th {\n",
       "        vertical-align: top;\n",
       "    }\n",
       "\n",
       "    .dataframe thead th {\n",
       "        text-align: right;\n",
       "    }\n",
       "</style>\n",
       "<table border=\"1\" class=\"dataframe\">\n",
       "  <thead>\n",
       "    <tr style=\"text-align: right;\">\n",
       "      <th></th>\n",
       "      <th>a</th>\n",
       "      <th>b</th>\n",
       "    </tr>\n",
       "  </thead>\n",
       "  <tbody>\n",
       "    <tr>\n",
       "      <th>0</th>\n",
       "      <td>1</td>\n",
       "      <td>2</td>\n",
       "    </tr>\n",
       "    <tr>\n",
       "      <th>1</th>\n",
       "      <td>1</td>\n",
       "      <td>2</td>\n",
       "    </tr>\n",
       "  </tbody>\n",
       "</table>\n",
       "</div>"
      ],
      "text/plain": [
       "   a  b\n",
       "0  1  2\n",
       "1  1  2"
      ]
     },
     "execution_count": 13,
     "metadata": {},
     "output_type": "execute_result"
    }
   ],
   "source": [
    "# if you don't assign to anything when `inplace=False` (default), the operation doesn't affect the input\n",
    "small_copy.drop(\"b\", axis=1)\n",
    "\n",
    "small_copy"
   ]
  },
  {
   "cell_type": "code",
   "execution_count": 14,
   "metadata": {},
   "outputs": [
    {
     "data": {
      "text/html": [
       "<div>\n",
       "<style scoped>\n",
       "    .dataframe tbody tr th:only-of-type {\n",
       "        vertical-align: middle;\n",
       "    }\n",
       "\n",
       "    .dataframe tbody tr th {\n",
       "        vertical-align: top;\n",
       "    }\n",
       "\n",
       "    .dataframe thead th {\n",
       "        text-align: right;\n",
       "    }\n",
       "</style>\n",
       "<table border=\"1\" class=\"dataframe\">\n",
       "  <thead>\n",
       "    <tr style=\"text-align: right;\">\n",
       "      <th></th>\n",
       "      <th>a</th>\n",
       "    </tr>\n",
       "  </thead>\n",
       "  <tbody>\n",
       "    <tr>\n",
       "      <th>0</th>\n",
       "      <td>1</td>\n",
       "    </tr>\n",
       "    <tr>\n",
       "      <th>1</th>\n",
       "      <td>1</td>\n",
       "    </tr>\n",
       "  </tbody>\n",
       "</table>\n",
       "</div>"
      ],
      "text/plain": [
       "   a\n",
       "0  1\n",
       "1  1"
      ]
     },
     "execution_count": 14,
     "metadata": {},
     "output_type": "execute_result"
    }
   ],
   "source": [
    "# if you do set `inplace=True`, the same operation will actually alter the input\n",
    "# fun fact: setting `inplace=True` will cause this to return `None` instead of a DataFrame\n",
    "small_copy.drop(\"b\", axis=1, inplace=True)\n",
    "\n",
    "small_copy"
   ]
  },
  {
   "cell_type": "code",
   "execution_count": 15,
   "metadata": {},
   "outputs": [
    {
     "data": {
      "text/html": [
       "<div>\n",
       "<style scoped>\n",
       "    .dataframe tbody tr th:only-of-type {\n",
       "        vertical-align: middle;\n",
       "    }\n",
       "\n",
       "    .dataframe tbody tr th {\n",
       "        vertical-align: top;\n",
       "    }\n",
       "\n",
       "    .dataframe thead th {\n",
       "        text-align: right;\n",
       "    }\n",
       "</style>\n",
       "<table border=\"1\" class=\"dataframe\">\n",
       "  <thead>\n",
       "    <tr style=\"text-align: right;\">\n",
       "      <th></th>\n",
       "      <th>a</th>\n",
       "      <th>b</th>\n",
       "    </tr>\n",
       "  </thead>\n",
       "  <tbody>\n",
       "    <tr>\n",
       "      <th>0</th>\n",
       "      <td>1</td>\n",
       "      <td>4</td>\n",
       "    </tr>\n",
       "    <tr>\n",
       "      <th>1</th>\n",
       "      <td>1</td>\n",
       "      <td>2</td>\n",
       "    </tr>\n",
       "  </tbody>\n",
       "</table>\n",
       "</div>"
      ],
      "text/plain": [
       "   a  b\n",
       "0  1  4\n",
       "1  1  2"
      ]
     },
     "execution_count": 15,
     "metadata": {},
     "output_type": "execute_result"
    }
   ],
   "source": [
    "# let's see what happens if you assign to a copy\n",
    "small_copy = df_small.copy()\n",
    "\n",
    "# you should always use `loc` for assignment\n",
    "small_copy.loc[0, 'b'] = 4\n",
    "\n",
    "small_copy"
   ]
  },
  {
   "cell_type": "code",
   "execution_count": 16,
   "metadata": {},
   "outputs": [
    {
     "data": {
      "text/html": [
       "<div>\n",
       "<style scoped>\n",
       "    .dataframe tbody tr th:only-of-type {\n",
       "        vertical-align: middle;\n",
       "    }\n",
       "\n",
       "    .dataframe tbody tr th {\n",
       "        vertical-align: top;\n",
       "    }\n",
       "\n",
       "    .dataframe thead th {\n",
       "        text-align: right;\n",
       "    }\n",
       "</style>\n",
       "<table border=\"1\" class=\"dataframe\">\n",
       "  <thead>\n",
       "    <tr style=\"text-align: right;\">\n",
       "      <th></th>\n",
       "      <th>a</th>\n",
       "      <th>b</th>\n",
       "    </tr>\n",
       "  </thead>\n",
       "  <tbody>\n",
       "    <tr>\n",
       "      <th>0</th>\n",
       "      <td>1</td>\n",
       "      <td>2</td>\n",
       "    </tr>\n",
       "    <tr>\n",
       "      <th>1</th>\n",
       "      <td>1</td>\n",
       "      <td>2</td>\n",
       "    </tr>\n",
       "  </tbody>\n",
       "</table>\n",
       "</div>"
      ],
      "text/plain": [
       "   a  b\n",
       "0  1  2\n",
       "1  1  2"
      ]
     },
     "execution_count": 16,
     "metadata": {},
     "output_type": "execute_result"
    }
   ],
   "source": [
    "# original is unchanged - this is why making copies is handy\n",
    "df_small"
   ]
  },
  {
   "cell_type": "code",
   "execution_count": 17,
   "metadata": {},
   "outputs": [
    {
     "name": "stderr",
     "output_type": "stream",
     "text": [
      "/Users/pamelawu/.virtualenvs/link/lib/python3.6/site-packages/ipykernel_launcher.py:2: SettingWithCopyWarning: \n",
      "A value is trying to be set on a copy of a slice from a DataFrame.\n",
      "Try using .loc[row_indexer,col_indexer] = value instead\n",
      "\n",
      "See the caveats in the documentation: http://pandas.pydata.org/pandas-docs/stable/indexing.html#indexing-view-versus-copy\n",
      "  \n"
     ]
    }
   ],
   "source": [
    "# do not use chained indexing for assignment\n",
    "small_copy[:1]['b'] = 4"
   ]
  },
  {
   "cell_type": "markdown",
   "metadata": {},
   "source": [
    "### Watch out for out of order processing\n",
    "In Jupyter notebooks, it's almost unavoidable to change and re-process cells out of order - we know we shouldn't do it, but it always ends up happening. This is a subset of the view vs. copy problem because if you know that you're making a change that fundamentally alters the properties of a column, you should eat the memory cost and make a new copy, or something like this might happen where you run the latter two cells in this block over and over and see the max value get pretty unstable."
   ]
  },
  {
   "cell_type": "code",
   "execution_count": 18,
   "metadata": {},
   "outputs": [],
   "source": [
    "large_copy = df_large.copy()"
   ]
  },
  {
   "cell_type": "code",
   "execution_count": 55,
   "metadata": {},
   "outputs": [
    {
     "data": {
      "text/plain": [
       "2673"
      ]
     },
     "execution_count": 55,
     "metadata": {},
     "output_type": "execute_result"
    }
   ],
   "source": [
    "large_copy.loc[0, \"positive_ints\"] = 120\n",
    "\n",
    "large_copy[\"positive_ints\"].max()"
   ]
  },
  {
   "cell_type": "code",
   "execution_count": 56,
   "metadata": {},
   "outputs": [
    {
     "data": {
      "text/plain": [
       "8019"
      ]
     },
     "execution_count": 56,
     "metadata": {},
     "output_type": "execute_result"
    }
   ],
   "source": [
    "large_copy[\"positive_ints\"] = large_copy[\"positive_ints\"] * 3\n",
    "\n",
    "large_copy[\"positive_ints\"].max()"
   ]
  },
  {
   "cell_type": "markdown",
   "metadata": {},
   "source": [
    "### Never set errors to \"ignore\"\n",
    "Some Pandas methods allow you to ignore errors by default. This is almost always a bad idea because ignoring errors means it just puts your unparsed input in place of where the output should have been. Note in the following example that if you were not overly familiar with what Pandas outputs should be, seeing an output of `array` type might not seem that unusal to you, and you  might just move on with your analysis, not knowing that something had gone wrong."
   ]
  },
  {
   "cell_type": "code",
   "execution_count": 21,
   "metadata": {},
   "outputs": [
    {
     "data": {
      "text/plain": [
       "array(['10/11/2018', '01/30/1996', '04/15/9086'], dtype=object)"
      ]
     },
     "execution_count": 21,
     "metadata": {},
     "output_type": "execute_result"
    }
   ],
   "source": [
    "parsed_dates = pd.to_datetime([\"10/11/2018\", \"01/30/1996\", \"04/15/9086\"], format=\"%m/%d/%Y\", errors=\"ignore\")\n",
    "\n",
    "parsed_dates"
   ]
  },
  {
   "cell_type": "code",
   "execution_count": 22,
   "metadata": {},
   "outputs": [
    {
     "name": "stderr",
     "output_type": "stream",
     "text": [
      "Traceback (most recent call last):\n",
      "  File \"/Users/pamelawu/.virtualenvs/link/lib/python3.6/site-packages/pandas/core/tools/datetimes.py\", line 377, in _convert_listlike\n",
      "    values, tz = conversion.datetime_to_datetime64(arg)\n",
      "TypeError: Unrecognized value type: <class 'str'>\n",
      "\n",
      "During handling of the above exception, another exception occurred:\n",
      "\n",
      "Traceback (most recent call last):\n",
      "  File \"<ipython-input-22-12145c38fd6e>\", line 3, in <module>\n",
      "    pd.to_datetime([\"10/11/2018\", \"01/30/1996\", \"04/15/9086\"], format=\"%m/%d/%Y\")\n",
      "pandas._libs.tslibs.np_datetime.OutOfBoundsDatetime: Out of bounds nanosecond timestamp: 9086-04-15 00:00:00\n"
     ]
    }
   ],
   "source": [
    "# suppressing this error because it's very large!\n",
    "try:\n",
    "    pd.to_datetime([\"10/11/2018\", \"01/30/1996\", \"04/15/9086\"], format=\"%m/%d/%Y\")\n",
    "except Exception:\n",
    "    traceback.print_exc(limit=1)"
   ]
  },
  {
   "cell_type": "code",
   "execution_count": 23,
   "metadata": {},
   "outputs": [
    {
     "data": {
      "text/plain": [
       "DatetimeIndex(['2018-10-11', '1996-01-30'], dtype='datetime64[ns]', freq=None)"
      ]
     },
     "execution_count": 23,
     "metadata": {},
     "output_type": "execute_result"
    }
   ],
   "source": [
    "# when the offending timestamp is removed, this is what the output is supposed to look like\n",
    "pd.to_datetime([\"10/11/2018\", \"01/30/1996\"], format=\"%m/%d/%Y\")"
   ]
  },
  {
   "cell_type": "markdown",
   "metadata": {},
   "source": [
    "### The `object` dtype can hide mixed types\n",
    "Each Pandas column has a type, but there is an uber-type called `object`, which means each value is actually just a pointer to some arbitrary object. This allows Pandas to have a great deal of flexibility (i.e. columns of lists or dictionaries or whatever you want!), but it can result in silent fails. \n",
    "\n",
    "**Spoiler alert:** this won't be the first time `object` type causes us problems. I don't want to say you shouldn't use it, but once you're in production mode, you should definitely use it with caution."
   ]
  },
  {
   "cell_type": "code",
   "execution_count": 24,
   "metadata": {},
   "outputs": [
    {
     "data": {
      "text/plain": [
       "a    int64\n",
       "b    int64\n",
       "dtype: object"
      ]
     },
     "execution_count": 24,
     "metadata": {},
     "output_type": "execute_result"
    }
   ],
   "source": [
    "# we start out with integer types for our small data\n",
    "small_copy = df_small.copy()\n",
    "\n",
    "small_copy.dtypes"
   ]
  },
  {
   "cell_type": "code",
   "execution_count": 25,
   "metadata": {},
   "outputs": [
    {
     "data": {
      "text/plain": [
       "a     int64\n",
       "b    object\n",
       "dtype: object"
      ]
     },
     "execution_count": 25,
     "metadata": {},
     "output_type": "execute_result"
    }
   ],
   "source": [
    "# reset ones of the column's dtype to `object`\n",
    "small_copy[\"b\"] = small_copy[\"b\"].astype(\"object\")\n",
    "\n",
    "small_copy.dtypes"
   ]
  },
  {
   "cell_type": "code",
   "execution_count": 26,
   "metadata": {},
   "outputs": [
    {
     "data": {
      "text/html": [
       "<div>\n",
       "<style scoped>\n",
       "    .dataframe tbody tr th:only-of-type {\n",
       "        vertical-align: middle;\n",
       "    }\n",
       "\n",
       "    .dataframe tbody tr th {\n",
       "        vertical-align: top;\n",
       "    }\n",
       "\n",
       "    .dataframe thead th {\n",
       "        text-align: right;\n",
       "    }\n",
       "</style>\n",
       "<table border=\"1\" class=\"dataframe\">\n",
       "  <thead>\n",
       "    <tr style=\"text-align: right;\">\n",
       "      <th></th>\n",
       "      <th>a</th>\n",
       "      <th>b</th>\n",
       "    </tr>\n",
       "  </thead>\n",
       "  <tbody>\n",
       "    <tr>\n",
       "      <th>0</th>\n",
       "      <td>1</td>\n",
       "      <td>4</td>\n",
       "    </tr>\n",
       "    <tr>\n",
       "      <th>1</th>\n",
       "      <td>1</td>\n",
       "      <td>4</td>\n",
       "    </tr>\n",
       "  </tbody>\n",
       "</table>\n",
       "</div>"
      ],
      "text/plain": [
       "   a  b\n",
       "0  1  4\n",
       "1  1  4"
      ]
     },
     "execution_count": 26,
     "metadata": {},
     "output_type": "execute_result"
    }
   ],
   "source": [
    "# now let's set ourselves up for a problem\n",
    "small_copy[\"b\"] = [4, \"4\"]\n",
    "\n",
    "small_copy"
   ]
  },
  {
   "cell_type": "code",
   "execution_count": 27,
   "metadata": {},
   "outputs": [
    {
     "data": {
      "text/html": [
       "<div>\n",
       "<style scoped>\n",
       "    .dataframe tbody tr th:only-of-type {\n",
       "        vertical-align: middle;\n",
       "    }\n",
       "\n",
       "    .dataframe tbody tr th {\n",
       "        vertical-align: top;\n",
       "    }\n",
       "\n",
       "    .dataframe thead th {\n",
       "        text-align: right;\n",
       "    }\n",
       "</style>\n",
       "<table border=\"1\" class=\"dataframe\">\n",
       "  <thead>\n",
       "    <tr style=\"text-align: right;\">\n",
       "      <th></th>\n",
       "      <th>a</th>\n",
       "      <th>b</th>\n",
       "    </tr>\n",
       "  </thead>\n",
       "  <tbody>\n",
       "    <tr>\n",
       "      <th>0</th>\n",
       "      <td>1</td>\n",
       "      <td>4</td>\n",
       "    </tr>\n",
       "  </tbody>\n",
       "</table>\n",
       "</div>"
      ],
      "text/plain": [
       "   a  b\n",
       "0  1  4"
      ]
     },
     "execution_count": 27,
     "metadata": {},
     "output_type": "execute_result"
    }
   ],
   "source": [
    "# the unmodified column behaves as expected\n",
    "small_copy.drop_duplicates(\"a\")"
   ]
  },
  {
   "cell_type": "code",
   "execution_count": 28,
   "metadata": {},
   "outputs": [
    {
     "data": {
      "text/html": [
       "<div>\n",
       "<style scoped>\n",
       "    .dataframe tbody tr th:only-of-type {\n",
       "        vertical-align: middle;\n",
       "    }\n",
       "\n",
       "    .dataframe tbody tr th {\n",
       "        vertical-align: top;\n",
       "    }\n",
       "\n",
       "    .dataframe thead th {\n",
       "        text-align: right;\n",
       "    }\n",
       "</style>\n",
       "<table border=\"1\" class=\"dataframe\">\n",
       "  <thead>\n",
       "    <tr style=\"text-align: right;\">\n",
       "      <th></th>\n",
       "      <th>a</th>\n",
       "      <th>b</th>\n",
       "    </tr>\n",
       "  </thead>\n",
       "  <tbody>\n",
       "    <tr>\n",
       "      <th>0</th>\n",
       "      <td>1</td>\n",
       "      <td>4</td>\n",
       "    </tr>\n",
       "    <tr>\n",
       "      <th>1</th>\n",
       "      <td>1</td>\n",
       "      <td>4</td>\n",
       "    </tr>\n",
       "  </tbody>\n",
       "</table>\n",
       "</div>"
      ],
      "text/plain": [
       "   a  b\n",
       "0  1  4\n",
       "1  1  4"
      ]
     },
     "execution_count": 28,
     "metadata": {},
     "output_type": "execute_result"
    }
   ],
   "source": [
    "# not only is this not what you wanted, but it would be totally buried in the data\n",
    "small_copy.drop_duplicates(\"b\")"
   ]
  },
  {
   "cell_type": "markdown",
   "metadata": {},
   "source": [
    "### Tread carefully with Pandas schema inference\n",
    "When you load in a big, mixed-type CSV and Pandas gives you the option to set `low_memory=False` when it encounters some data it doesn't know how to handle, what it's actually doing is just making that entire column `object` type so that the numbers it can convert to `int64` or `float64` get converted, but the stuff it can't convert just sit there as `str`. This makes the column values able to peacefully co-exist, for now. But once you try to do any operations on them, you'll see that Pandas was just trying to tell you all along that you can't assume all the values are numeric.\n",
    "\n",
    "**Note:** Remember, in Python, `NaN` is a `float`! So if your numeric column has them, cast them to `float` even if they're actually `int`."
   ]
  },
  {
   "cell_type": "code",
   "execution_count": 29,
   "metadata": {},
   "outputs": [],
   "source": [
    "mixed_df = pd.DataFrame({\"mixed\": [100] * 100 + [\"-\"] + [100] * 100, \"ints\": [100] * 201})\n",
    "\n",
    "mixed_df.to_csv(\"test_load.csv\", header=True, index=False)"
   ]
  },
  {
   "cell_type": "code",
   "execution_count": 30,
   "metadata": {},
   "outputs": [
    {
     "data": {
      "text/plain": [
       "mixed    object\n",
       "ints      int64\n",
       "dtype: object"
      ]
     },
     "execution_count": 30,
     "metadata": {},
     "output_type": "execute_result"
    }
   ],
   "source": [
    "mixed_df = pd.read_csv(\"test_load.csv\", header=0)\n",
    "\n",
    "mixed_df.dtypes"
   ]
  },
  {
   "cell_type": "code",
   "execution_count": 31,
   "metadata": {},
   "outputs": [
    {
     "data": {
      "text/plain": [
       "mixed    float64\n",
       "ints       int64\n",
       "dtype: object"
      ]
     },
     "execution_count": 31,
     "metadata": {},
     "output_type": "execute_result"
    }
   ],
   "source": [
    "# the best practices way is to specify schema and properly set your null values\n",
    "mixed_df = pd.read_csv(\"test_load.csv\", header=0, dtype={\"mixed\": float, \"ints\": int}, na_values=[\"-\"])\n",
    "\n",
    "mixed_df.dtypes"
   ]
  },
  {
   "cell_type": "markdown",
   "metadata": {},
   "source": [
    "## Speeding up\n",
    "Now that you have great coding habits, it's time to try to up the performance. There's a range of things you can use, from vectorization to just-in-time compilation to get your code running faster. To measure bottlenecks and quantify performance gains, let's introduce `timeit`, a nifty Jupyter notebook tool for performance measurement. All you need to know is that putting `%timeit` before a single line of code will measure the runtime of that line, while putting `%%timeit` in a code block will measure the runtime for the whole block."
   ]
  },
  {
   "cell_type": "code",
   "execution_count": 32,
   "metadata": {},
   "outputs": [],
   "source": [
    "# example taken from StackOverflow: https://bit.ly/2V2UZYr\n",
    "def haversine(lat1, lon1, lat2, lon2):\n",
    "    \"\"\"Haversine calculates the distance between two points on a sphere.\"\"\"\n",
    "    lat1, lon1, lat2, lon2 = map(np.deg2rad, [lat1, lon1, lat2, lon2])\n",
    "    dlat = lat2 - lat1\n",
    "    dlon = lon2 - lon1\n",
    "    a = np.sin(dlat/2)**2 + np.cos(lat1) * np.cos(lat2) * np.sin(dlon/2)**2\n",
    "    c = 2 * np.arcsin(np.sqrt(a)) \n",
    "    return c"
   ]
  },
  {
   "cell_type": "code",
   "execution_count": 33,
   "metadata": {},
   "outputs": [
    {
     "name": "stdout",
     "output_type": "stream",
     "text": [
      "14.3 µs ± 308 ns per loop (mean ± std. dev. of 7 runs, 100000 loops each)\n"
     ]
    }
   ],
   "source": [
    "%%timeit\n",
    "\n",
    "haversine(100, -100, 50, -50)"
   ]
  },
  {
   "cell_type": "code",
   "execution_count": 34,
   "metadata": {},
   "outputs": [],
   "source": [
    "large_copy = df_large.copy()"
   ]
  },
  {
   "cell_type": "markdown",
   "metadata": {},
   "source": [
    "### Choosing the right way to iterate through rows"
   ]
  },
  {
   "cell_type": "code",
   "execution_count": 35,
   "metadata": {},
   "outputs": [
    {
     "name": "stdout",
     "output_type": "stream",
     "text": [
      "736 ms ± 29.4 ms per loop (mean ± std. dev. of 7 runs, 1 loop each)\n"
     ]
    }
   ],
   "source": [
    "%%timeit\n",
    "\n",
    "# `iterrows` is a generator that yields indices and rows\n",
    "dists = []\n",
    "for i, r in large_copy.iterrows():\n",
    "    dists.append(haversine(r[\"lat1\"], r[\"lon1\"], r[\"lat2\"], r[\"lon2\"]))\n",
    "\n",
    "large_copy[\"spherical_dist\"] = dists"
   ]
  },
  {
   "cell_type": "code",
   "execution_count": 36,
   "metadata": {},
   "outputs": [
    {
     "name": "stdout",
     "output_type": "stream",
     "text": [
      "387 ms ± 31.1 ms per loop (mean ± std. dev. of 7 runs, 1 loop each)\n"
     ]
    }
   ],
   "source": [
    "%%timeit\n",
    "\n",
    "# a somewhat optimized way that borrows from functional programming\n",
    "large_copy[\"spherical_dist\"] = large_copy.apply(\n",
    "    lambda r: haversine(r[\"lat1\"], r[\"lon1\"], r[\"lat2\"], r[\"lon2\"]), axis=1\n",
    ")"
   ]
  },
  {
   "cell_type": "code",
   "execution_count": 37,
   "metadata": {},
   "outputs": [
    {
     "name": "stdout",
     "output_type": "stream",
     "text": [
      "2.17 ms ± 188 µs per loop (mean ± std. dev. of 7 runs, 1000 loops each)\n"
     ]
    }
   ],
   "source": [
    "# using vectorization is about 100-300X faster for this operation\n",
    "%timeit large_copy[\"spherical_dist\"] = haversine(\\\n",
    "    large_copy[\"lat1\"], \\\n",
    "    large_copy[\"lon1\"], \\\n",
    "    large_copy[\"lat2\"], \\\n",
    "    large_copy[\"lon2\"] \\\n",
    ")"
   ]
  },
  {
   "cell_type": "markdown",
   "metadata": {},
   "source": [
    "### Some rules of thumb for iterating\n",
    "Like with indexing, Pandas is flexible about how you want to go through the values of each row. The following are some rules of thumb:\n",
    "* If you want to apply the same transformation to each value of of a column, you should use vectorization.\n",
    "    * If you need conditional vectorization, use boolean indexing\n",
    "    * Also works on strings! i.e. `Series.str.replace(\"remove_word\", \"\")`\n",
    "* You should only use `apply` for specific functions that can't be broadcast. i.e. `pd.to_datetime`\n",
    "* It's hard to think of valid use case examples for `iterrows`, probably because the only valid use cases are so complicated and situation-specific that they don't make good didactic examples.\n",
    "\n",
    "### Boolean indexing, what's that again?\n",
    "You probably don't need this reminder, but just in case, boolean indexing is a way of vectorizing indexing where you convert the index into a series of `True` and `False` values, and when you apply the index to a column or DataFrame, the values that get selected are the ones where the boolean index was `True`. "
   ]
  },
  {
   "cell_type": "code",
   "execution_count": 38,
   "metadata": {},
   "outputs": [
    {
     "data": {
      "text/plain": [
       "0     True\n",
       "1    False\n",
       "2    False\n",
       "3    False\n",
       "4    False\n",
       "Name: day_of_week, dtype: bool"
      ]
     },
     "execution_count": 38,
     "metadata": {},
     "output_type": "execute_result"
    }
   ],
   "source": [
    "mondays = large_copy[\"day_of_week\"] == \"Monday\"\n",
    "\n",
    "mondays.head()"
   ]
  },
  {
   "cell_type": "code",
   "execution_count": 39,
   "metadata": {},
   "outputs": [
    {
     "data": {
      "text/html": [
       "<div>\n",
       "<style scoped>\n",
       "    .dataframe tbody tr th:only-of-type {\n",
       "        vertical-align: middle;\n",
       "    }\n",
       "\n",
       "    .dataframe tbody tr th {\n",
       "        vertical-align: top;\n",
       "    }\n",
       "\n",
       "    .dataframe thead th {\n",
       "        text-align: right;\n",
       "    }\n",
       "</style>\n",
       "<table border=\"1\" class=\"dataframe\">\n",
       "  <thead>\n",
       "    <tr style=\"text-align: right;\">\n",
       "      <th></th>\n",
       "      <th>day_of_week</th>\n",
       "      <th>booleans</th>\n",
       "      <th>positive_ints</th>\n",
       "      <th>mixed_ints</th>\n",
       "      <th>lat1</th>\n",
       "      <th>lon1</th>\n",
       "      <th>lat2</th>\n",
       "      <th>lon2</th>\n",
       "      <th>spherical_dist</th>\n",
       "    </tr>\n",
       "  </thead>\n",
       "  <tbody>\n",
       "    <tr>\n",
       "      <th>0</th>\n",
       "      <td>Monday</td>\n",
       "      <td>True</td>\n",
       "      <td>42</td>\n",
       "      <td>79</td>\n",
       "      <td>5.745216</td>\n",
       "      <td>-43.094330</td>\n",
       "      <td>15.617175</td>\n",
       "      <td>-24.790654</td>\n",
       "      <td>0.357681</td>\n",
       "    </tr>\n",
       "    <tr>\n",
       "      <th>7</th>\n",
       "      <td>Monday</td>\n",
       "      <td>False</td>\n",
       "      <td>18</td>\n",
       "      <td>24</td>\n",
       "      <td>3.998923</td>\n",
       "      <td>-35.926048</td>\n",
       "      <td>-15.603738</td>\n",
       "      <td>13.337621</td>\n",
       "      <td>0.916955</td>\n",
       "    </tr>\n",
       "    <tr>\n",
       "      <th>14</th>\n",
       "      <td>Monday</td>\n",
       "      <td>True</td>\n",
       "      <td>88</td>\n",
       "      <td>-67</td>\n",
       "      <td>-19.885387</td>\n",
       "      <td>-29.692172</td>\n",
       "      <td>-18.729195</td>\n",
       "      <td>4.747911</td>\n",
       "      <td>0.566669</td>\n",
       "    </tr>\n",
       "    <tr>\n",
       "      <th>21</th>\n",
       "      <td>Monday</td>\n",
       "      <td>False</td>\n",
       "      <td>58</td>\n",
       "      <td>-72</td>\n",
       "      <td>33.824496</td>\n",
       "      <td>-4.376150</td>\n",
       "      <td>-11.513267</td>\n",
       "      <td>17.162267</td>\n",
       "      <td>0.868354</td>\n",
       "    </tr>\n",
       "    <tr>\n",
       "      <th>28</th>\n",
       "      <td>Monday</td>\n",
       "      <td>True</td>\n",
       "      <td>26</td>\n",
       "      <td>-14</td>\n",
       "      <td>-30.356374</td>\n",
       "      <td>-24.574991</td>\n",
       "      <td>-49.073527</td>\n",
       "      <td>40.504344</td>\n",
       "      <td>0.902022</td>\n",
       "    </tr>\n",
       "  </tbody>\n",
       "</table>\n",
       "</div>"
      ],
      "text/plain": [
       "   day_of_week  booleans  positive_ints  mixed_ints       lat1       lon1  \\\n",
       "0       Monday      True             42          79   5.745216 -43.094330   \n",
       "7       Monday     False             18          24   3.998923 -35.926048   \n",
       "14      Monday      True             88         -67 -19.885387 -29.692172   \n",
       "21      Monday     False             58         -72  33.824496  -4.376150   \n",
       "28      Monday      True             26         -14 -30.356374 -24.574991   \n",
       "\n",
       "         lat2       lon2  spherical_dist  \n",
       "0   15.617175 -24.790654        0.357681  \n",
       "7  -15.603738  13.337621        0.916955  \n",
       "14 -18.729195   4.747911        0.566669  \n",
       "21 -11.513267  17.162267        0.868354  \n",
       "28 -49.073527  40.504344        0.902022  "
      ]
     },
     "execution_count": 39,
     "metadata": {},
     "output_type": "execute_result"
    }
   ],
   "source": [
    "large_copy.loc[mondays, :].head()"
   ]
  },
  {
   "cell_type": "markdown",
   "metadata": {},
   "source": [
    "## Just-in-time compilation with Numba\n",
    "\n",
    "What if you can't vectorize? Does this mean you're stuck with `df.apply()`? Not necessarily - if your code can be expressed as a combination of pure Python and Numpy arrays, you should give Numba a try and see if your code can be sped up for you. Writing Numba is nothing like writing Cython, which is a lot like writing a whole new programming language if you just know Python. Again, as long as your code can be expressed in pure Python and Numpy, it's literally just putting a couple of decorators on top of the existing functions."
   ]
  },
  {
   "cell_type": "code",
   "execution_count": 40,
   "metadata": {},
   "outputs": [
    {
     "name": "stdout",
     "output_type": "stream",
     "text": [
      "1.29 s ± 59.4 ms per loop (mean ± std. dev. of 7 runs, 1 loop each)\n"
     ]
    },
    {
     "data": {
      "image/png": "[encoded data removed]",
      "text/plain": [
       "<Figure size 432x288 with 1 Axes>"
      ]
     },
     "metadata": {},
     "output_type": "display_data"
    }
   ],
   "source": [
    "# these are some functions that calculate if a given complex number is part of the Mandlebrot set\n",
    "# and visualizes the resulting fractal from trying every pixel coordinate\n",
    "# here's the unmodified functions and an estimate of their performance\n",
    "# example taken from the Numba docs: http://numba.pydata.org/numba-doc/0.15.1/examples.html\n",
    "\n",
    "def mandel(x, y, max_iters):\n",
    "    \"\"\"\n",
    "    Given the real and imaginary parts of a complex number,\n",
    "    determine if it is a candidate for membership in the Mandelbrot\n",
    "    set given a fixed number of iterations.\n",
    "    \"\"\"\n",
    "    i = 0\n",
    "    c = complex(x,y)\n",
    "    z = 0.0j\n",
    "    for i in range(max_iters):\n",
    "        z = z*z + c\n",
    "        if (z.real*z.real + z.imag*z.imag) >= 4:\n",
    "            return i\n",
    "\n",
    "    return 255\n",
    "\n",
    "def create_fractal(min_x, max_x, min_y, max_y, image, iters):\n",
    "    height = image.shape[0]\n",
    "    width = image.shape[1]\n",
    "\n",
    "    pixel_size_x = (max_x - min_x) / width\n",
    "    pixel_size_y = (max_y - min_y) / height\n",
    "    for x in range(width):\n",
    "        real = min_x + x * pixel_size_x\n",
    "        for y in range(height):\n",
    "            imag = min_y + y * pixel_size_y\n",
    "            color = mandel(real, imag, iters)\n",
    "            image[y, x] = color\n",
    "\n",
    "    return image\n",
    "\n",
    "image = np.zeros((500, 750), dtype=np.uint8)\n",
    "%timeit create_fractal(-2.0, 1.0, -1.0, 1.0, image, 20)\n",
    "plt.imshow(create_fractal(-2.0, 1.0, -1.0, 1.0, image, 20))\n",
    "plt.show()"
   ]
  },
  {
   "cell_type": "code",
   "execution_count": 41,
   "metadata": {},
   "outputs": [
    {
     "name": "stdout",
     "output_type": "stream",
     "text": [
      "10.9 ms ± 497 µs per loop (mean ± std. dev. of 7 runs, 1 loop each)\n"
     ]
    },
    {
     "data": {
      "image/png": "[encoded data removed]",
      "text/plain": [
       "<Figure size 432x288 with 1 Axes>"
      ]
     },
     "metadata": {},
     "output_type": "display_data"
    }
   ],
   "source": [
    "# here are the exact same functions but with the numba decorators on top\n",
    "# spoiler alert - it's way faster\n",
    "\n",
    "@numba.jit\n",
    "def mandel(x, y, max_iters):\n",
    "    \"\"\"\n",
    "    Given the real and imaginary parts of a complex number,\n",
    "    determine if it is a candidate for membership in the Mandelbrot\n",
    "    set given a fixed number of iterations.\n",
    "    \"\"\"\n",
    "    i = 0\n",
    "    c = complex(x,y)\n",
    "    z = 0.0j\n",
    "    for i in range(max_iters):\n",
    "        z = z*z + c\n",
    "        if (z.real*z.real + z.imag*z.imag) >= 4:\n",
    "            return i\n",
    "\n",
    "    return 255\n",
    "\n",
    "@numba.jit\n",
    "def create_fractal(min_x, max_x, min_y, max_y, image, iters):\n",
    "    height = image.shape[0]\n",
    "    width = image.shape[1]\n",
    "\n",
    "    pixel_size_x = (max_x - min_x) / width\n",
    "    pixel_size_y = (max_y - min_y) / height\n",
    "    for x in range(width):\n",
    "        real = min_x + x * pixel_size_x\n",
    "        for y in range(height):\n",
    "            imag = min_y + y * pixel_size_y\n",
    "            color = mandel(real, imag, iters)\n",
    "            image[y, x] = color\n",
    "\n",
    "    return image\n",
    "\n",
    "image = np.zeros((500, 750), dtype=np.uint8)\n",
    "%timeit create_fractal(-2.0, 1.0, -1.0, 1.0, image, 20)\n",
    "plt.imshow(create_fractal(-2.0, 1.0, -1.0, 1.0, image, 20))\n",
    "plt.show()"
   ]
  },
  {
   "cell_type": "markdown",
   "metadata": {},
   "source": [
    "## Manage your memory\n",
    "The biggest offenders of memory problems in Pandas are probably\n",
    "* You have references still attached to variables, which means they don't get garbage collected\n",
    "    * You have too many copies of DataFrames lying around\n",
    "    * You could stand to do more in-place operations, which don't produce copies of your DataFrame\n",
    "* `object` dtypes take up a lot more memory than fixed dtypes\n",
    "\n",
    "### Garbage collection\n",
    "Garbage collection is the process by which Python frees up memory by releasing memory that is no longer useful to program. You can release the objects referenced by memory by removing the reference to that object. This flags the formerly referenced object for memory release.\n",
    "\n",
    "The best way to let garbage collection help you manage memory is to wrap whatever you can into functions. Variables declared in functions are only scoped to the function, so when the function is finished running, they get discarded. On the other hand, global variables (like `large_copy`) are kept around until the Python process ends (i.e. this notebook kernel is shut down). Even if you `del` a variable, it just decreases the reference by 1, but if the reference count isn't 0, the object referenced isn't actually deleted. That's why global variables can screw up what you think your memory is holding onto. \n",
    "\n",
    "Just for fun, you can peek into what a variable's reference count is by using `sys.getrefcount(var_name)`."
   ]
  },
  {
   "cell_type": "code",
   "execution_count": 42,
   "metadata": {},
   "outputs": [
    {
     "data": {
      "text/plain": [
       "2"
      ]
     },
     "execution_count": 42,
     "metadata": {},
     "output_type": "execute_result"
    }
   ],
   "source": [
    "# `foo` is a reference\n",
    "foo = []\n",
    "\n",
    "sys.getrefcount(foo) # this temporarily bumps it up to 2"
   ]
  },
  {
   "cell_type": "code",
   "execution_count": 43,
   "metadata": {},
   "outputs": [
    {
     "data": {
      "text/plain": [
       "3"
      ]
     },
     "execution_count": 43,
     "metadata": {},
     "output_type": "execute_result"
    }
   ],
   "source": [
    "# yet another global reference bumps it up again\n",
    "# at this point, `del` will not garbage collect `foo` \n",
    "foo.append(foo)\n",
    "\n",
    "sys.getrefcount(foo)"
   ]
  },
  {
   "cell_type": "markdown",
   "metadata": {},
   "source": [
    "### `object` dtypes take up a lot of memory\n",
    "\n",
    "It's those pesky `object` dtypes again! Not surprisingly, telling Pandas that you need to be able to store literally anything at any time somewhere means that it will pre-allocate a huge amount of initial memory for you for the thing you're storing. This is fine if you're storing something complex, but if you're storing something that could easily be represented more simply, you might want to see if you can change the dtype to something better for your situation."
   ]
  },
  {
   "cell_type": "code",
   "execution_count": 44,
   "metadata": {},
   "outputs": [],
   "source": [
    "large_copy = df_large.copy()"
   ]
  },
  {
   "cell_type": "code",
   "execution_count": 45,
   "metadata": {},
   "outputs": [
    {
     "name": "stdout",
     "output_type": "stream",
     "text": [
      "<class 'pandas.core.frame.DataFrame'>\n",
      "RangeIndex: 7000 entries, 0 to 6999\n",
      "Data columns (total 8 columns):\n",
      "day_of_week      7000 non-null object\n",
      "booleans         7000 non-null bool\n",
      "positive_ints    7000 non-null int64\n",
      "mixed_ints       7000 non-null int64\n",
      "lat1             7000 non-null float64\n",
      "lon1             7000 non-null float64\n",
      "lat2             7000 non-null float64\n",
      "lon2             7000 non-null float64\n",
      "dtypes: bool(1), float64(4), int64(2), object(1)\n",
      "memory usage: 773.5 KB\n"
     ]
    }
   ],
   "source": [
    "# there's a very nifty tool for seeing how much memory your DataFrames are using.\n",
    "large_copy.info(memory_usage=\"deep\")"
   ]
  },
  {
   "cell_type": "code",
   "execution_count": 46,
   "metadata": {},
   "outputs": [
    {
     "name": "stdout",
     "output_type": "stream",
     "text": [
      "<class 'pandas.core.frame.DataFrame'>\n",
      "RangeIndex: 7000 entries, 0 to 6999\n",
      "Data columns (total 8 columns):\n",
      "day_of_week      7000 non-null object\n",
      "booleans         7000 non-null bool\n",
      "positive_ints    7000 non-null int32\n",
      "mixed_ints       7000 non-null int64\n",
      "lat1             7000 non-null float64\n",
      "lon1             7000 non-null float64\n",
      "lat2             7000 non-null float64\n",
      "lon2             7000 non-null float64\n",
      "dtypes: bool(1), float64(4), int32(1), int64(1), object(1)\n",
      "memory usage: 746.2 KB\n"
     ]
    }
   ],
   "source": [
    "# a common practice when conserving memory is \"downcasting\"\n",
    "# like, if you know your integers don't need 64-bits, cast them down to 32-bits\n",
    "large_copy[\"positive_ints\"] = large_copy[\"positive_ints\"].astype(np.int32)\n",
    "\n",
    "large_copy.info(memory_usage=\"deep\")"
   ]
  },
  {
   "cell_type": "code",
   "execution_count": 47,
   "metadata": {},
   "outputs": [
    {
     "name": "stdout",
     "output_type": "stream",
     "text": [
      "<class 'pandas.core.frame.DataFrame'>\n",
      "RangeIndex: 7000 entries, 0 to 6999\n",
      "Data columns (total 8 columns):\n",
      "day_of_week      7000 non-null object\n",
      "booleans         7000 non-null bool\n",
      "positive_ints    7000 non-null int32\n",
      "mixed_ints       7000 non-null int64\n",
      "lat1             7000 non-null float64\n",
      "lon1             7000 non-null float64\n",
      "lat2             7000 non-null float64\n",
      "lon2             7000 non-null float64\n",
      "dtypes: bool(1), float64(4), int32(1), int64(1), object(1)\n",
      "memory usage: 636.8 KB\n"
     ]
    }
   ],
   "source": [
    "# all `str` types are stored as `object` in Pandas because they can be any length\n",
    "# you can downcast string columns to a fixed-length `str` type\n",
    "# for example, this limits to 10 characters\n",
    "large_copy[\"day_of_week\"] = large_copy[\"day_of_week\"].astype(\"|S10\")\n",
    "\n",
    "large_copy.info(memory_usage=\"deep\")"
   ]
  },
  {
   "cell_type": "code",
   "execution_count": 48,
   "metadata": {},
   "outputs": [
    {
     "name": "stdout",
     "output_type": "stream",
     "text": [
      "<class 'pandas.core.frame.DataFrame'>\n",
      "RangeIndex: 7000 entries, 0 to 6999\n",
      "Data columns (total 8 columns):\n",
      "day_of_week      7000 non-null category\n",
      "booleans         7000 non-null bool\n",
      "positive_ints    7000 non-null int32\n",
      "mixed_ints       7000 non-null int64\n",
      "lat1             7000 non-null float64\n",
      "lon1             7000 non-null float64\n",
      "lat2             7000 non-null float64\n",
      "lon2             7000 non-null float64\n",
      "dtypes: bool(1), category(1), float64(4), int32(1), int64(1)\n",
      "memory usage: 315.2 KB\n"
     ]
    }
   ],
   "source": [
    "# but if you also know that there aren't many unique strings\n",
    "# you might want to try casting to category for the highest savings of all\n",
    "large_copy[\"day_of_week\"] = large_copy[\"day_of_week\"].astype(\"category\")\n",
    "\n",
    "large_copy.info(memory_usage=\"deep\")"
   ]
  },
  {
   "cell_type": "code",
   "execution_count": null,
   "metadata": {},
   "outputs": [],
   "source": []
  }
 ],
 "metadata": {
  "kernelspec": {
   "display_name": "Python 3",
   "language": "python",
   "name": "python3"
  },
  "language_info": {
   "codemirror_mode": {
    "name": "ipython",
    "version": 3
   },
   "file_extension": ".py",
   "mimetype": "text/x-python",
   "name": "python",
   "nbconvert_exporter": "python",
   "pygments_lexer": "ipython3",
   "version": "3.7.2"
  }
 },
 "nbformat": 4,
 "nbformat_minor": 2
}
